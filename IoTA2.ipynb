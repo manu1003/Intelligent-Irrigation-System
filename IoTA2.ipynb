{
  "nbformat": 4,
  "nbformat_minor": 0,
  "metadata": {
    "colab": {
      "name": "IoTA2.ipynb",
      "provenance": [],
      "collapsed_sections": []
    },
    "kernelspec": {
      "name": "python3",
      "display_name": "Python 3"
    },
    "language_info": {
      "name": "python"
    }
  },
  "cells": [
    {
      "cell_type": "code",
      "metadata": {
        "id": "swLBIZJKh1B-"
      },
      "source": [
        "# Import all needed libraries and sublibraries\n",
        "import numpy as np\n",
        "import pandas as pd\n",
        "\n",
        "import tensorflow as tf\n",
        "\n",
        "from keras.models import Sequential\n",
        "from keras.layers import Dense\n",
        "from tensorflow.keras.optimizers import Adam\n",
        "from keras.callbacks import EarlyStopping\n",
        "\n",
        "import sklearn\n",
        "from sklearn import preprocessing\n",
        "from sklearn.preprocessing import MinMaxScaler\n",
        "from sklearn.model_selection import train_test_split\n",
        "from sklearn.metrics import r2_score\n",
        "\n",
        "from matplotlib import pyplot as plt\n",
        "%matplotlib inline"
      ],
      "execution_count": null,
      "outputs": []
    },
    {
      "cell_type": "code",
      "metadata": {
        "id": "S21sl1Reiz9x"
      },
      "source": [
        "# Import dataset and storing it as a pandas dataframe\n",
        "\n",
        "df=pd.read_csv('IOT_Assignment_2_data_regression_sensor_range.csv')"
      ],
      "execution_count": null,
      "outputs": []
    },
    {
      "cell_type": "code",
      "metadata": {
        "colab": {
          "base_uri": "https://localhost:8080/",
          "height": 414
        },
        "id": "p_nxN2x8kpc5",
        "outputId": "510e96e7-9ad2-4661-869f-495239ee5b90"
      },
      "source": [
        "df"
      ],
      "execution_count": null,
      "outputs": [
        {
          "output_type": "execute_result",
          "data": {
            "text/html": [
              "<div>\n",
              "<style scoped>\n",
              "    .dataframe tbody tr th:only-of-type {\n",
              "        vertical-align: middle;\n",
              "    }\n",
              "\n",
              "    .dataframe tbody tr th {\n",
              "        vertical-align: top;\n",
              "    }\n",
              "\n",
              "    .dataframe thead th {\n",
              "        text-align: right;\n",
              "    }\n",
              "</style>\n",
              "<table border=\"1\" class=\"dataframe\">\n",
              "  <thead>\n",
              "    <tr style=\"text-align: right;\">\n",
              "      <th></th>\n",
              "      <th>Humidity(%)</th>\n",
              "      <th>Temperature(°C)</th>\n",
              "      <th>WaterFlow(%)</th>\n",
              "    </tr>\n",
              "  </thead>\n",
              "  <tbody>\n",
              "    <tr>\n",
              "      <th>0</th>\n",
              "      <td>25.045045</td>\n",
              "      <td>76.856857</td>\n",
              "      <td>67.432607</td>\n",
              "    </tr>\n",
              "    <tr>\n",
              "      <th>1</th>\n",
              "      <td>8.880881</td>\n",
              "      <td>31.771772</td>\n",
              "      <td>0.000000</td>\n",
              "    </tr>\n",
              "    <tr>\n",
              "      <th>2</th>\n",
              "      <td>24.956957</td>\n",
              "      <td>75.735736</td>\n",
              "      <td>66.105904</td>\n",
              "    </tr>\n",
              "    <tr>\n",
              "      <th>3</th>\n",
              "      <td>40.328328</td>\n",
              "      <td>88.308308</td>\n",
              "      <td>0.000000</td>\n",
              "    </tr>\n",
              "    <tr>\n",
              "      <th>4</th>\n",
              "      <td>38.742743</td>\n",
              "      <td>57.157157</td>\n",
              "      <td>0.000000</td>\n",
              "    </tr>\n",
              "    <tr>\n",
              "      <th>...</th>\n",
              "      <td>...</td>\n",
              "      <td>...</td>\n",
              "      <td>...</td>\n",
              "    </tr>\n",
              "    <tr>\n",
              "      <th>195</th>\n",
              "      <td>14.474474</td>\n",
              "      <td>30.890891</td>\n",
              "      <td>0.000000</td>\n",
              "    </tr>\n",
              "    <tr>\n",
              "      <th>196</th>\n",
              "      <td>35.395395</td>\n",
              "      <td>51.551552</td>\n",
              "      <td>0.000000</td>\n",
              "    </tr>\n",
              "    <tr>\n",
              "      <th>197</th>\n",
              "      <td>23.855856</td>\n",
              "      <td>100.000000</td>\n",
              "      <td>96.088487</td>\n",
              "    </tr>\n",
              "    <tr>\n",
              "      <th>198</th>\n",
              "      <td>41.649650</td>\n",
              "      <td>76.856857</td>\n",
              "      <td>0.000000</td>\n",
              "    </tr>\n",
              "    <tr>\n",
              "      <th>199</th>\n",
              "      <td>35.967968</td>\n",
              "      <td>67.967968</td>\n",
              "      <td>0.000000</td>\n",
              "    </tr>\n",
              "  </tbody>\n",
              "</table>\n",
              "<p>200 rows × 3 columns</p>\n",
              "</div>"
            ],
            "text/plain": [
              "     Humidity(%)  Temperature(°C)  WaterFlow(%)\n",
              "0      25.045045        76.856857     67.432607\n",
              "1       8.880881        31.771772      0.000000\n",
              "2      24.956957        75.735736     66.105904\n",
              "3      40.328328        88.308308      0.000000\n",
              "4      38.742743        57.157157      0.000000\n",
              "..           ...              ...           ...\n",
              "195    14.474474        30.890891      0.000000\n",
              "196    35.395395        51.551552      0.000000\n",
              "197    23.855856       100.000000     96.088487\n",
              "198    41.649650        76.856857      0.000000\n",
              "199    35.967968        67.967968      0.000000\n",
              "\n",
              "[200 rows x 3 columns]"
            ]
          },
          "metadata": {},
          "execution_count": 6
        }
      ]
    },
    {
      "cell_type": "code",
      "metadata": {
        "colab": {
          "base_uri": "https://localhost:8080/",
          "height": 294
        },
        "id": "Lg9dBbeHpDdN",
        "outputId": "8cf13361-7d61-4093-e9e6-3f30d2cda933"
      },
      "source": [
        "#Data exploration:\n",
        "df.describe()"
      ],
      "execution_count": null,
      "outputs": [
        {
          "output_type": "execute_result",
          "data": {
            "text/html": [
              "<div>\n",
              "<style scoped>\n",
              "    .dataframe tbody tr th:only-of-type {\n",
              "        vertical-align: middle;\n",
              "    }\n",
              "\n",
              "    .dataframe tbody tr th {\n",
              "        vertical-align: top;\n",
              "    }\n",
              "\n",
              "    .dataframe thead th {\n",
              "        text-align: right;\n",
              "    }\n",
              "</style>\n",
              "<table border=\"1\" class=\"dataframe\">\n",
              "  <thead>\n",
              "    <tr style=\"text-align: right;\">\n",
              "      <th></th>\n",
              "      <th>Humidity(%)</th>\n",
              "      <th>Temperature(°C)</th>\n",
              "      <th>WaterFlow(%)</th>\n",
              "    </tr>\n",
              "  </thead>\n",
              "  <tbody>\n",
              "    <tr>\n",
              "      <th>count</th>\n",
              "      <td>200.000000</td>\n",
              "      <td>200.000000</td>\n",
              "      <td>200.000000</td>\n",
              "    </tr>\n",
              "    <tr>\n",
              "      <th>mean</th>\n",
              "      <td>31.137437</td>\n",
              "      <td>59.747347</td>\n",
              "      <td>25.496364</td>\n",
              "    </tr>\n",
              "    <tr>\n",
              "      <th>std</th>\n",
              "      <td>12.386344</td>\n",
              "      <td>23.112767</td>\n",
              "      <td>34.953661</td>\n",
              "    </tr>\n",
              "    <tr>\n",
              "      <th>min</th>\n",
              "      <td>8.132132</td>\n",
              "      <td>20.000000</td>\n",
              "      <td>0.000000</td>\n",
              "    </tr>\n",
              "    <tr>\n",
              "      <th>25%</th>\n",
              "      <td>21.015015</td>\n",
              "      <td>40.860861</td>\n",
              "      <td>0.000000</td>\n",
              "    </tr>\n",
              "    <tr>\n",
              "      <th>50%</th>\n",
              "      <td>30.616617</td>\n",
              "      <td>58.638639</td>\n",
              "      <td>0.000000</td>\n",
              "    </tr>\n",
              "    <tr>\n",
              "      <th>75%</th>\n",
              "      <td>41.528529</td>\n",
              "      <td>78.998999</td>\n",
              "      <td>61.884829</td>\n",
              "    </tr>\n",
              "    <tr>\n",
              "      <th>max</th>\n",
              "      <td>51.867868</td>\n",
              "      <td>100.000000</td>\n",
              "      <td>100.000000</td>\n",
              "    </tr>\n",
              "  </tbody>\n",
              "</table>\n",
              "</div>"
            ],
            "text/plain": [
              "       Humidity(%)  Temperature(°C)  WaterFlow(%)\n",
              "count   200.000000       200.000000    200.000000\n",
              "mean     31.137437        59.747347     25.496364\n",
              "std      12.386344        23.112767     34.953661\n",
              "min       8.132132        20.000000      0.000000\n",
              "25%      21.015015        40.860861      0.000000\n",
              "50%      30.616617        58.638639      0.000000\n",
              "75%      41.528529        78.998999     61.884829\n",
              "max      51.867868       100.000000    100.000000"
            ]
          },
          "metadata": {},
          "execution_count": 7
        }
      ]
    },
    {
      "cell_type": "code",
      "metadata": {
        "id": "lwOJF4PbyX17"
      },
      "source": [
        "#Renaming column names:\n",
        "df=df.rename(columns={'Humidity(%)':'Humidity','Temperature(°C)':'Temperature','WaterFlow(%)':'Waterflow'})"
      ],
      "execution_count": null,
      "outputs": []
    },
    {
      "cell_type": "code",
      "metadata": {
        "colab": {
          "base_uri": "https://localhost:8080/",
          "height": 414
        },
        "id": "pWuzrs74y8Ub",
        "outputId": "3df60e02-ee7c-4303-e032-cbe0b4a7d862"
      },
      "source": [
        "df"
      ],
      "execution_count": null,
      "outputs": [
        {
          "output_type": "execute_result",
          "data": {
            "text/html": [
              "<div>\n",
              "<style scoped>\n",
              "    .dataframe tbody tr th:only-of-type {\n",
              "        vertical-align: middle;\n",
              "    }\n",
              "\n",
              "    .dataframe tbody tr th {\n",
              "        vertical-align: top;\n",
              "    }\n",
              "\n",
              "    .dataframe thead th {\n",
              "        text-align: right;\n",
              "    }\n",
              "</style>\n",
              "<table border=\"1\" class=\"dataframe\">\n",
              "  <thead>\n",
              "    <tr style=\"text-align: right;\">\n",
              "      <th></th>\n",
              "      <th>Humidity</th>\n",
              "      <th>Temperature</th>\n",
              "      <th>Waterflow</th>\n",
              "    </tr>\n",
              "  </thead>\n",
              "  <tbody>\n",
              "    <tr>\n",
              "      <th>0</th>\n",
              "      <td>25.045045</td>\n",
              "      <td>76.856857</td>\n",
              "      <td>67.432607</td>\n",
              "    </tr>\n",
              "    <tr>\n",
              "      <th>1</th>\n",
              "      <td>8.880881</td>\n",
              "      <td>31.771772</td>\n",
              "      <td>0.000000</td>\n",
              "    </tr>\n",
              "    <tr>\n",
              "      <th>2</th>\n",
              "      <td>24.956957</td>\n",
              "      <td>75.735736</td>\n",
              "      <td>66.105904</td>\n",
              "    </tr>\n",
              "    <tr>\n",
              "      <th>3</th>\n",
              "      <td>40.328328</td>\n",
              "      <td>88.308308</td>\n",
              "      <td>0.000000</td>\n",
              "    </tr>\n",
              "    <tr>\n",
              "      <th>4</th>\n",
              "      <td>38.742743</td>\n",
              "      <td>57.157157</td>\n",
              "      <td>0.000000</td>\n",
              "    </tr>\n",
              "    <tr>\n",
              "      <th>...</th>\n",
              "      <td>...</td>\n",
              "      <td>...</td>\n",
              "      <td>...</td>\n",
              "    </tr>\n",
              "    <tr>\n",
              "      <th>195</th>\n",
              "      <td>14.474474</td>\n",
              "      <td>30.890891</td>\n",
              "      <td>0.000000</td>\n",
              "    </tr>\n",
              "    <tr>\n",
              "      <th>196</th>\n",
              "      <td>35.395395</td>\n",
              "      <td>51.551552</td>\n",
              "      <td>0.000000</td>\n",
              "    </tr>\n",
              "    <tr>\n",
              "      <th>197</th>\n",
              "      <td>23.855856</td>\n",
              "      <td>100.000000</td>\n",
              "      <td>96.088487</td>\n",
              "    </tr>\n",
              "    <tr>\n",
              "      <th>198</th>\n",
              "      <td>41.649650</td>\n",
              "      <td>76.856857</td>\n",
              "      <td>0.000000</td>\n",
              "    </tr>\n",
              "    <tr>\n",
              "      <th>199</th>\n",
              "      <td>35.967968</td>\n",
              "      <td>67.967968</td>\n",
              "      <td>0.000000</td>\n",
              "    </tr>\n",
              "  </tbody>\n",
              "</table>\n",
              "<p>200 rows × 3 columns</p>\n",
              "</div>"
            ],
            "text/plain": [
              "      Humidity  Temperature  Waterflow\n",
              "0    25.045045    76.856857  67.432607\n",
              "1     8.880881    31.771772   0.000000\n",
              "2    24.956957    75.735736  66.105904\n",
              "3    40.328328    88.308308   0.000000\n",
              "4    38.742743    57.157157   0.000000\n",
              "..         ...          ...        ...\n",
              "195  14.474474    30.890891   0.000000\n",
              "196  35.395395    51.551552   0.000000\n",
              "197  23.855856   100.000000  96.088487\n",
              "198  41.649650    76.856857   0.000000\n",
              "199  35.967968    67.967968   0.000000\n",
              "\n",
              "[200 rows x 3 columns]"
            ]
          },
          "metadata": {},
          "execution_count": 9
        }
      ]
    },
    {
      "cell_type": "markdown",
      "metadata": {
        "id": "DHpJk0C1vN01"
      },
      "source": [
        "Rearranging order of input data:"
      ]
    },
    {
      "cell_type": "code",
      "metadata": {
        "id": "lRx3UFydE6Lh"
      },
      "source": [
        "df_sample=df.sample(frac=1)"
      ],
      "execution_count": null,
      "outputs": []
    },
    {
      "cell_type": "code",
      "metadata": {
        "id": "PZJ6Fv4HE_m_"
      },
      "source": [
        "df_sample=df_sample.reset_index(drop=True)"
      ],
      "execution_count": null,
      "outputs": []
    },
    {
      "cell_type": "code",
      "metadata": {
        "colab": {
          "base_uri": "https://localhost:8080/",
          "height": 414
        },
        "id": "0aU7UtE3FKU5",
        "outputId": "c833c1fe-6ccc-4ec5-c928-0598d152b60c"
      },
      "source": [
        "df_sample"
      ],
      "execution_count": null,
      "outputs": [
        {
          "output_type": "execute_result",
          "data": {
            "text/html": [
              "<div>\n",
              "<style scoped>\n",
              "    .dataframe tbody tr th:only-of-type {\n",
              "        vertical-align: middle;\n",
              "    }\n",
              "\n",
              "    .dataframe tbody tr th {\n",
              "        vertical-align: top;\n",
              "    }\n",
              "\n",
              "    .dataframe thead th {\n",
              "        text-align: right;\n",
              "    }\n",
              "</style>\n",
              "<table border=\"1\" class=\"dataframe\">\n",
              "  <thead>\n",
              "    <tr style=\"text-align: right;\">\n",
              "      <th></th>\n",
              "      <th>Humidity</th>\n",
              "      <th>Temperature</th>\n",
              "      <th>Waterflow</th>\n",
              "    </tr>\n",
              "  </thead>\n",
              "  <tbody>\n",
              "    <tr>\n",
              "      <th>0</th>\n",
              "      <td>23.855856</td>\n",
              "      <td>100.000000</td>\n",
              "      <td>96.088487</td>\n",
              "    </tr>\n",
              "    <tr>\n",
              "      <th>1</th>\n",
              "      <td>21.873874</td>\n",
              "      <td>71.651652</td>\n",
              "      <td>62.906293</td>\n",
              "    </tr>\n",
              "    <tr>\n",
              "      <th>2</th>\n",
              "      <td>24.384384</td>\n",
              "      <td>83.183183</td>\n",
              "      <td>75.564338</td>\n",
              "    </tr>\n",
              "    <tr>\n",
              "      <th>3</th>\n",
              "      <td>30.638639</td>\n",
              "      <td>70.770771</td>\n",
              "      <td>0.000000</td>\n",
              "    </tr>\n",
              "    <tr>\n",
              "      <th>4</th>\n",
              "      <td>17.117117</td>\n",
              "      <td>84.384384</td>\n",
              "      <td>81.384543</td>\n",
              "    </tr>\n",
              "    <tr>\n",
              "      <th>...</th>\n",
              "      <td>...</td>\n",
              "      <td>...</td>\n",
              "      <td>...</td>\n",
              "    </tr>\n",
              "    <tr>\n",
              "      <th>195</th>\n",
              "      <td>27.511512</td>\n",
              "      <td>95.995996</td>\n",
              "      <td>89.126063</td>\n",
              "    </tr>\n",
              "    <tr>\n",
              "      <th>196</th>\n",
              "      <td>20.332332</td>\n",
              "      <td>32.972973</td>\n",
              "      <td>0.000000</td>\n",
              "    </tr>\n",
              "    <tr>\n",
              "      <th>197</th>\n",
              "      <td>45.041041</td>\n",
              "      <td>38.178178</td>\n",
              "      <td>0.000000</td>\n",
              "    </tr>\n",
              "    <tr>\n",
              "      <th>198</th>\n",
              "      <td>15.707708</td>\n",
              "      <td>52.912913</td>\n",
              "      <td>42.856476</td>\n",
              "    </tr>\n",
              "    <tr>\n",
              "      <th>199</th>\n",
              "      <td>31.211211</td>\n",
              "      <td>91.751752</td>\n",
              "      <td>81.823522</td>\n",
              "    </tr>\n",
              "  </tbody>\n",
              "</table>\n",
              "<p>200 rows × 3 columns</p>\n",
              "</div>"
            ],
            "text/plain": [
              "      Humidity  Temperature  Waterflow\n",
              "0    23.855856   100.000000  96.088487\n",
              "1    21.873874    71.651652  62.906293\n",
              "2    24.384384    83.183183  75.564338\n",
              "3    30.638639    70.770771   0.000000\n",
              "4    17.117117    84.384384  81.384543\n",
              "..         ...          ...        ...\n",
              "195  27.511512    95.995996  89.126063\n",
              "196  20.332332    32.972973   0.000000\n",
              "197  45.041041    38.178178   0.000000\n",
              "198  15.707708    52.912913  42.856476\n",
              "199  31.211211    91.751752  81.823522\n",
              "\n",
              "[200 rows x 3 columns]"
            ]
          },
          "metadata": {},
          "execution_count": 43
        }
      ]
    },
    {
      "cell_type": "code",
      "metadata": {
        "id": "uRREl3h2vMHl"
      },
      "source": [
        "#Splitting dataset into X(Humidity(%), Temperature(°C)) and y(WaterFlow(%)) values:\n",
        "X=df_sample[['Humidity','Temperature']]\n",
        "y=df_sample[['Waterflow']]"
      ],
      "execution_count": null,
      "outputs": []
    },
    {
      "cell_type": "code",
      "metadata": {
        "colab": {
          "base_uri": "https://localhost:8080/",
          "height": 414
        },
        "id": "ybuKqTpcmT3F",
        "outputId": "28b2c2ce-d8d5-4078-90bb-b772b76ad3eb"
      },
      "source": [
        "X"
      ],
      "execution_count": null,
      "outputs": [
        {
          "output_type": "execute_result",
          "data": {
            "text/html": [
              "<div>\n",
              "<style scoped>\n",
              "    .dataframe tbody tr th:only-of-type {\n",
              "        vertical-align: middle;\n",
              "    }\n",
              "\n",
              "    .dataframe tbody tr th {\n",
              "        vertical-align: top;\n",
              "    }\n",
              "\n",
              "    .dataframe thead th {\n",
              "        text-align: right;\n",
              "    }\n",
              "</style>\n",
              "<table border=\"1\" class=\"dataframe\">\n",
              "  <thead>\n",
              "    <tr style=\"text-align: right;\">\n",
              "      <th></th>\n",
              "      <th>Humidity</th>\n",
              "      <th>Temperature</th>\n",
              "    </tr>\n",
              "  </thead>\n",
              "  <tbody>\n",
              "    <tr>\n",
              "      <th>0</th>\n",
              "      <td>23.855856</td>\n",
              "      <td>100.000000</td>\n",
              "    </tr>\n",
              "    <tr>\n",
              "      <th>1</th>\n",
              "      <td>21.873874</td>\n",
              "      <td>71.651652</td>\n",
              "    </tr>\n",
              "    <tr>\n",
              "      <th>2</th>\n",
              "      <td>24.384384</td>\n",
              "      <td>83.183183</td>\n",
              "    </tr>\n",
              "    <tr>\n",
              "      <th>3</th>\n",
              "      <td>30.638639</td>\n",
              "      <td>70.770771</td>\n",
              "    </tr>\n",
              "    <tr>\n",
              "      <th>4</th>\n",
              "      <td>17.117117</td>\n",
              "      <td>84.384384</td>\n",
              "    </tr>\n",
              "    <tr>\n",
              "      <th>...</th>\n",
              "      <td>...</td>\n",
              "      <td>...</td>\n",
              "    </tr>\n",
              "    <tr>\n",
              "      <th>195</th>\n",
              "      <td>27.511512</td>\n",
              "      <td>95.995996</td>\n",
              "    </tr>\n",
              "    <tr>\n",
              "      <th>196</th>\n",
              "      <td>20.332332</td>\n",
              "      <td>32.972973</td>\n",
              "    </tr>\n",
              "    <tr>\n",
              "      <th>197</th>\n",
              "      <td>45.041041</td>\n",
              "      <td>38.178178</td>\n",
              "    </tr>\n",
              "    <tr>\n",
              "      <th>198</th>\n",
              "      <td>15.707708</td>\n",
              "      <td>52.912913</td>\n",
              "    </tr>\n",
              "    <tr>\n",
              "      <th>199</th>\n",
              "      <td>31.211211</td>\n",
              "      <td>91.751752</td>\n",
              "    </tr>\n",
              "  </tbody>\n",
              "</table>\n",
              "<p>200 rows × 2 columns</p>\n",
              "</div>"
            ],
            "text/plain": [
              "      Humidity  Temperature\n",
              "0    23.855856   100.000000\n",
              "1    21.873874    71.651652\n",
              "2    24.384384    83.183183\n",
              "3    30.638639    70.770771\n",
              "4    17.117117    84.384384\n",
              "..         ...          ...\n",
              "195  27.511512    95.995996\n",
              "196  20.332332    32.972973\n",
              "197  45.041041    38.178178\n",
              "198  15.707708    52.912913\n",
              "199  31.211211    91.751752\n",
              "\n",
              "[200 rows x 2 columns]"
            ]
          },
          "metadata": {},
          "execution_count": 46
        }
      ]
    },
    {
      "cell_type": "code",
      "metadata": {
        "colab": {
          "base_uri": "https://localhost:8080/",
          "height": 414
        },
        "id": "_33fM672mYPd",
        "outputId": "48d892d3-5d25-42d4-e7da-33e165ef22cf"
      },
      "source": [
        "y"
      ],
      "execution_count": null,
      "outputs": [
        {
          "output_type": "execute_result",
          "data": {
            "text/html": [
              "<div>\n",
              "<style scoped>\n",
              "    .dataframe tbody tr th:only-of-type {\n",
              "        vertical-align: middle;\n",
              "    }\n",
              "\n",
              "    .dataframe tbody tr th {\n",
              "        vertical-align: top;\n",
              "    }\n",
              "\n",
              "    .dataframe thead th {\n",
              "        text-align: right;\n",
              "    }\n",
              "</style>\n",
              "<table border=\"1\" class=\"dataframe\">\n",
              "  <thead>\n",
              "    <tr style=\"text-align: right;\">\n",
              "      <th></th>\n",
              "      <th>Waterflow</th>\n",
              "    </tr>\n",
              "  </thead>\n",
              "  <tbody>\n",
              "    <tr>\n",
              "      <th>0</th>\n",
              "      <td>96.088487</td>\n",
              "    </tr>\n",
              "    <tr>\n",
              "      <th>1</th>\n",
              "      <td>62.906293</td>\n",
              "    </tr>\n",
              "    <tr>\n",
              "      <th>2</th>\n",
              "      <td>75.564338</td>\n",
              "    </tr>\n",
              "    <tr>\n",
              "      <th>3</th>\n",
              "      <td>0.000000</td>\n",
              "    </tr>\n",
              "    <tr>\n",
              "      <th>4</th>\n",
              "      <td>81.384543</td>\n",
              "    </tr>\n",
              "    <tr>\n",
              "      <th>...</th>\n",
              "      <td>...</td>\n",
              "    </tr>\n",
              "    <tr>\n",
              "      <th>195</th>\n",
              "      <td>89.126063</td>\n",
              "    </tr>\n",
              "    <tr>\n",
              "      <th>196</th>\n",
              "      <td>0.000000</td>\n",
              "    </tr>\n",
              "    <tr>\n",
              "      <th>197</th>\n",
              "      <td>0.000000</td>\n",
              "    </tr>\n",
              "    <tr>\n",
              "      <th>198</th>\n",
              "      <td>42.856476</td>\n",
              "    </tr>\n",
              "    <tr>\n",
              "      <th>199</th>\n",
              "      <td>81.823522</td>\n",
              "    </tr>\n",
              "  </tbody>\n",
              "</table>\n",
              "<p>200 rows × 1 columns</p>\n",
              "</div>"
            ],
            "text/plain": [
              "     Waterflow\n",
              "0    96.088487\n",
              "1    62.906293\n",
              "2    75.564338\n",
              "3     0.000000\n",
              "4    81.384543\n",
              "..         ...\n",
              "195  89.126063\n",
              "196   0.000000\n",
              "197   0.000000\n",
              "198  42.856476\n",
              "199  81.823522\n",
              "\n",
              "[200 rows x 1 columns]"
            ]
          },
          "metadata": {},
          "execution_count": 47
        }
      ]
    },
    {
      "cell_type": "code",
      "metadata": {
        "id": "Fjho1kv0qiSO"
      },
      "source": [
        "X_train=X\n",
        "y_train=y"
      ],
      "execution_count": null,
      "outputs": []
    },
    {
      "cell_type": "code",
      "metadata": {
        "colab": {
          "base_uri": "https://localhost:8080/",
          "height": 414
        },
        "id": "4F2zTBn5MxnL",
        "outputId": "7022e834-ea2a-49ec-f02d-43cb106e36d8"
      },
      "source": [
        "y_train"
      ],
      "execution_count": null,
      "outputs": [
        {
          "output_type": "execute_result",
          "data": {
            "text/html": [
              "<div>\n",
              "<style scoped>\n",
              "    .dataframe tbody tr th:only-of-type {\n",
              "        vertical-align: middle;\n",
              "    }\n",
              "\n",
              "    .dataframe tbody tr th {\n",
              "        vertical-align: top;\n",
              "    }\n",
              "\n",
              "    .dataframe thead th {\n",
              "        text-align: right;\n",
              "    }\n",
              "</style>\n",
              "<table border=\"1\" class=\"dataframe\">\n",
              "  <thead>\n",
              "    <tr style=\"text-align: right;\">\n",
              "      <th></th>\n",
              "      <th>Waterflow</th>\n",
              "    </tr>\n",
              "  </thead>\n",
              "  <tbody>\n",
              "    <tr>\n",
              "      <th>0</th>\n",
              "      <td>96.088487</td>\n",
              "    </tr>\n",
              "    <tr>\n",
              "      <th>1</th>\n",
              "      <td>62.906293</td>\n",
              "    </tr>\n",
              "    <tr>\n",
              "      <th>2</th>\n",
              "      <td>75.564338</td>\n",
              "    </tr>\n",
              "    <tr>\n",
              "      <th>3</th>\n",
              "      <td>0.000000</td>\n",
              "    </tr>\n",
              "    <tr>\n",
              "      <th>4</th>\n",
              "      <td>81.384543</td>\n",
              "    </tr>\n",
              "    <tr>\n",
              "      <th>...</th>\n",
              "      <td>...</td>\n",
              "    </tr>\n",
              "    <tr>\n",
              "      <th>195</th>\n",
              "      <td>89.126063</td>\n",
              "    </tr>\n",
              "    <tr>\n",
              "      <th>196</th>\n",
              "      <td>0.000000</td>\n",
              "    </tr>\n",
              "    <tr>\n",
              "      <th>197</th>\n",
              "      <td>0.000000</td>\n",
              "    </tr>\n",
              "    <tr>\n",
              "      <th>198</th>\n",
              "      <td>42.856476</td>\n",
              "    </tr>\n",
              "    <tr>\n",
              "      <th>199</th>\n",
              "      <td>81.823522</td>\n",
              "    </tr>\n",
              "  </tbody>\n",
              "</table>\n",
              "<p>200 rows × 1 columns</p>\n",
              "</div>"
            ],
            "text/plain": [
              "     Waterflow\n",
              "0    96.088487\n",
              "1    62.906293\n",
              "2    75.564338\n",
              "3     0.000000\n",
              "4    81.384543\n",
              "..         ...\n",
              "195  89.126063\n",
              "196   0.000000\n",
              "197   0.000000\n",
              "198  42.856476\n",
              "199  81.823522\n",
              "\n",
              "[200 rows x 1 columns]"
            ]
          },
          "metadata": {},
          "execution_count": 49
        }
      ]
    },
    {
      "cell_type": "code",
      "metadata": {
        "colab": {
          "base_uri": "https://localhost:8080/",
          "height": 414
        },
        "id": "TYbQcwSIo19n",
        "outputId": "ce99ed85-e38c-4c4d-837e-e24491c755fe"
      },
      "source": [
        "X_train"
      ],
      "execution_count": null,
      "outputs": [
        {
          "output_type": "execute_result",
          "data": {
            "text/html": [
              "<div>\n",
              "<style scoped>\n",
              "    .dataframe tbody tr th:only-of-type {\n",
              "        vertical-align: middle;\n",
              "    }\n",
              "\n",
              "    .dataframe tbody tr th {\n",
              "        vertical-align: top;\n",
              "    }\n",
              "\n",
              "    .dataframe thead th {\n",
              "        text-align: right;\n",
              "    }\n",
              "</style>\n",
              "<table border=\"1\" class=\"dataframe\">\n",
              "  <thead>\n",
              "    <tr style=\"text-align: right;\">\n",
              "      <th></th>\n",
              "      <th>Humidity</th>\n",
              "      <th>Temperature</th>\n",
              "    </tr>\n",
              "  </thead>\n",
              "  <tbody>\n",
              "    <tr>\n",
              "      <th>0</th>\n",
              "      <td>23.855856</td>\n",
              "      <td>100.000000</td>\n",
              "    </tr>\n",
              "    <tr>\n",
              "      <th>1</th>\n",
              "      <td>21.873874</td>\n",
              "      <td>71.651652</td>\n",
              "    </tr>\n",
              "    <tr>\n",
              "      <th>2</th>\n",
              "      <td>24.384384</td>\n",
              "      <td>83.183183</td>\n",
              "    </tr>\n",
              "    <tr>\n",
              "      <th>3</th>\n",
              "      <td>30.638639</td>\n",
              "      <td>70.770771</td>\n",
              "    </tr>\n",
              "    <tr>\n",
              "      <th>4</th>\n",
              "      <td>17.117117</td>\n",
              "      <td>84.384384</td>\n",
              "    </tr>\n",
              "    <tr>\n",
              "      <th>...</th>\n",
              "      <td>...</td>\n",
              "      <td>...</td>\n",
              "    </tr>\n",
              "    <tr>\n",
              "      <th>195</th>\n",
              "      <td>27.511512</td>\n",
              "      <td>95.995996</td>\n",
              "    </tr>\n",
              "    <tr>\n",
              "      <th>196</th>\n",
              "      <td>20.332332</td>\n",
              "      <td>32.972973</td>\n",
              "    </tr>\n",
              "    <tr>\n",
              "      <th>197</th>\n",
              "      <td>45.041041</td>\n",
              "      <td>38.178178</td>\n",
              "    </tr>\n",
              "    <tr>\n",
              "      <th>198</th>\n",
              "      <td>15.707708</td>\n",
              "      <td>52.912913</td>\n",
              "    </tr>\n",
              "    <tr>\n",
              "      <th>199</th>\n",
              "      <td>31.211211</td>\n",
              "      <td>91.751752</td>\n",
              "    </tr>\n",
              "  </tbody>\n",
              "</table>\n",
              "<p>200 rows × 2 columns</p>\n",
              "</div>"
            ],
            "text/plain": [
              "      Humidity  Temperature\n",
              "0    23.855856   100.000000\n",
              "1    21.873874    71.651652\n",
              "2    24.384384    83.183183\n",
              "3    30.638639    70.770771\n",
              "4    17.117117    84.384384\n",
              "..         ...          ...\n",
              "195  27.511512    95.995996\n",
              "196  20.332332    32.972973\n",
              "197  45.041041    38.178178\n",
              "198  15.707708    52.912913\n",
              "199  31.211211    91.751752\n",
              "\n",
              "[200 rows x 2 columns]"
            ]
          },
          "metadata": {},
          "execution_count": 50
        }
      ]
    },
    {
      "cell_type": "code",
      "metadata": {
        "id": "kQDwxRazizs4",
        "colab": {
          "base_uri": "https://localhost:8080/",
          "height": 314
        },
        "outputId": "4afed87b-0571-417d-d0ff-5d27d783094c"
      },
      "source": [
        "# Defines \"deep\" model and its structure\n",
        "model = Sequential()\n",
        "model.add(Dense(3, input_shape=(2,), activation='relu'))\n",
        "model.add(Dense(3, activation='relu'))\n",
        "model.add(Dense(1,))\n",
        "model.compile(Adam(lr=0.01), 'mean_squared_error')\n",
        "\n",
        "# Runs model for 5000 iterations and assigns this to 'history'\n",
        "history = model.fit(X_train, y_train, validation_split = 0.2, epochs = 5000, verbose = 0) #By setting verbose 0, 1 or 2 you just say how do you want to 'see' the training progress for each epoch. verbose=0 will show you nothing (silent).\n",
        "\n",
        "# Plots 'history'\n",
        "history_dict=history.history\n",
        "loss_values = history_dict['loss']\n",
        "val_loss_values=history_dict['val_loss']\n",
        "plt.plot(loss_values,'bo',label='training loss')\n",
        "plt.plot(val_loss_values,'r',label='training loss val')"
      ],
      "execution_count": null,
      "outputs": [
        {
          "output_type": "stream",
          "name": "stderr",
          "text": [
            "/usr/local/lib/python3.7/dist-packages/keras/optimizer_v2/optimizer_v2.py:356: UserWarning: The `lr` argument is deprecated, use `learning_rate` instead.\n",
            "  \"The `lr` argument is deprecated, use `learning_rate` instead.\")\n"
          ]
        },
        {
          "output_type": "execute_result",
          "data": {
            "text/plain": [
              "[<matplotlib.lines.Line2D at 0x7faaa262f6d0>]"
            ]
          },
          "metadata": {},
          "execution_count": 54
        },
        {
          "output_type": "display_data",
          "data": {
            "image/png": "[encoded data removed]",
            "text/plain": [
              "<Figure size 432x288 with 1 Axes>"
            ]
          },
          "metadata": {
            "needs_background": "light"
          }
        }
      ]
    },
    {
      "cell_type": "code",
      "metadata": {
        "id": "eJr4bEm69fbR",
        "colab": {
          "base_uri": "https://localhost:8080/"
        },
        "outputId": "b5a490f8-d95d-4a24-f595-ee2cd42946f6"
      },
      "source": [
        "# Runs model with its current weights on the training data\n",
        "y_train_pred = model.predict(X_train)\n",
        "\n",
        "# Calculates and prints r2 score of training data\n",
        "print(\"The R2 score on the Train set is:\\t{:0.3f}\".format(r2_score(y_train, y_train_pred)))"
      ],
      "execution_count": null,
      "outputs": [
        {
          "output_type": "stream",
          "name": "stdout",
          "text": [
            "The R2 score on the Train set is:\t0.840\n"
          ]
        }
      ]
    },
    {
      "cell_type": "code",
      "metadata": {
        "id": "-C4PuIkEefwy",
        "colab": {
          "base_uri": "https://localhost:8080/"
        },
        "outputId": "c0b4b1b7-b376-4491-9071-80f760a40336"
      },
      "source": [
        "from sklearn.metrics import mean_squared_error\n",
        "\n",
        "mean_squared_error(y_train, y_train_pred, squared=False) #Div by 100 bec we convert percentage to ratio(value between 0 an 1)"
      ],
      "execution_count": null,
      "outputs": [
        {
          "output_type": "execute_result",
          "data": {
            "text/plain": [
              "13.948431959449756"
            ]
          },
          "metadata": {},
          "execution_count": 56
        }
      ]
    },
    {
      "cell_type": "code",
      "metadata": {
        "colab": {
          "base_uri": "https://localhost:8080/",
          "height": 355
        },
        "id": "tMsayAXkN-Kv",
        "outputId": "ba368238-09f8-4686-e38f-2fb140e3b446"
      },
      "source": [
        "df.sample(10)"
      ],
      "execution_count": null,
      "outputs": [
        {
          "output_type": "execute_result",
          "data": {
            "text/html": [
              "<div>\n",
              "<style scoped>\n",
              "    .dataframe tbody tr th:only-of-type {\n",
              "        vertical-align: middle;\n",
              "    }\n",
              "\n",
              "    .dataframe tbody tr th {\n",
              "        vertical-align: top;\n",
              "    }\n",
              "\n",
              "    .dataframe thead th {\n",
              "        text-align: right;\n",
              "    }\n",
              "</style>\n",
              "<table border=\"1\" class=\"dataframe\">\n",
              "  <thead>\n",
              "    <tr style=\"text-align: right;\">\n",
              "      <th></th>\n",
              "      <th>Humidity</th>\n",
              "      <th>Temperature</th>\n",
              "      <th>Waterflow</th>\n",
              "    </tr>\n",
              "  </thead>\n",
              "  <tbody>\n",
              "    <tr>\n",
              "      <th>195</th>\n",
              "      <td>14.474474</td>\n",
              "      <td>30.890891</td>\n",
              "      <td>0.000000</td>\n",
              "    </tr>\n",
              "    <tr>\n",
              "      <th>28</th>\n",
              "      <td>19.539540</td>\n",
              "      <td>79.259259</td>\n",
              "      <td>73.683097</td>\n",
              "    </tr>\n",
              "    <tr>\n",
              "      <th>47</th>\n",
              "      <td>14.870871</td>\n",
              "      <td>50.910911</td>\n",
              "      <td>40.751165</td>\n",
              "    </tr>\n",
              "    <tr>\n",
              "      <th>167</th>\n",
              "      <td>36.804805</td>\n",
              "      <td>45.545546</td>\n",
              "      <td>0.000000</td>\n",
              "    </tr>\n",
              "    <tr>\n",
              "      <th>128</th>\n",
              "      <td>50.062062</td>\n",
              "      <td>39.459459</td>\n",
              "      <td>0.000000</td>\n",
              "    </tr>\n",
              "    <tr>\n",
              "      <th>166</th>\n",
              "      <td>30.946947</td>\n",
              "      <td>85.745746</td>\n",
              "      <td>0.000000</td>\n",
              "    </tr>\n",
              "    <tr>\n",
              "      <th>58</th>\n",
              "      <td>23.503504</td>\n",
              "      <td>22.402402</td>\n",
              "      <td>0.000000</td>\n",
              "    </tr>\n",
              "    <tr>\n",
              "      <th>13</th>\n",
              "      <td>42.310310</td>\n",
              "      <td>45.785786</td>\n",
              "      <td>0.000000</td>\n",
              "    </tr>\n",
              "    <tr>\n",
              "      <th>66</th>\n",
              "      <td>51.207207</td>\n",
              "      <td>94.074074</td>\n",
              "      <td>72.610376</td>\n",
              "    </tr>\n",
              "    <tr>\n",
              "      <th>165</th>\n",
              "      <td>18.570571</td>\n",
              "      <td>69.409409</td>\n",
              "      <td>62.099206</td>\n",
              "    </tr>\n",
              "  </tbody>\n",
              "</table>\n",
              "</div>"
            ],
            "text/plain": [
              "      Humidity  Temperature  Waterflow\n",
              "195  14.474474    30.890891   0.000000\n",
              "28   19.539540    79.259259  73.683097\n",
              "47   14.870871    50.910911  40.751165\n",
              "167  36.804805    45.545546   0.000000\n",
              "128  50.062062    39.459459   0.000000\n",
              "166  30.946947    85.745746   0.000000\n",
              "58   23.503504    22.402402   0.000000\n",
              "13   42.310310    45.785786   0.000000\n",
              "66   51.207207    94.074074  72.610376\n",
              "165  18.570571    69.409409  62.099206"
            ]
          },
          "metadata": {},
          "execution_count": 57
        }
      ]
    },
    {
      "cell_type": "code",
      "metadata": {
        "colab": {
          "base_uri": "https://localhost:8080/"
        },
        "id": "JIYkxlJCOBhP",
        "outputId": "4dccbd93-4d97-42c5-8608-5b7f3d6e72db"
      },
      "source": [
        "model.predict([[14,30]])"
      ],
      "execution_count": null,
      "outputs": [
        {
          "output_type": "execute_result",
          "data": {
            "text/plain": [
              "array([[6.5650177]], dtype=float32)"
            ]
          },
          "metadata": {},
          "execution_count": 71
        }
      ]
    },
    {
      "cell_type": "code",
      "metadata": {
        "id": "MT8WtnP6OJHH",
        "colab": {
          "base_uri": "https://localhost:8080/"
        },
        "outputId": "c894217a-6347-457a-fb6c-1895db1257a0"
      },
      "source": [
        "model.weights"
      ],
      "execution_count": null,
      "outputs": [
        {
          "output_type": "execute_result",
          "data": {
            "text/plain": [
              "[<tf.Variable 'dense_27/kernel:0' shape=(2, 3) dtype=float32, numpy=\n",
              " array([[ 1.1563146 ,  0.26206368,  1.9639573 ],\n",
              "        [-0.25177678,  0.47050536, -0.7135683 ]], dtype=float32)>,\n",
              " <tf.Variable 'dense_27/bias:0' shape=(3,) dtype=float32, numpy=array([-14.905402 ,  -4.5643663,   5.9763675], dtype=float32)>,\n",
              " <tf.Variable 'dense_28/kernel:0' shape=(3, 3) dtype=float32, numpy=\n",
              " array([[ 3.8171318 , -0.4962946 , -4.482957  ],\n",
              "        [ 0.5365088 ,  0.1100239 ,  0.29739815],\n",
              "        [-2.029649  ,  0.4271137 , -0.27374294]], dtype=float32)>,\n",
              " <tf.Variable 'dense_28/bias:0' shape=(3,) dtype=float32, numpy=array([-4.8820076, -1.640905 ,  5.976514 ], dtype=float32)>,\n",
              " <tf.Variable 'dense_29/kernel:0' shape=(3, 1) dtype=float32, numpy=\n",
              " array([[3.6645076 ],\n",
              "        [0.13679582],\n",
              "        [1.0162396 ]], dtype=float32)>,\n",
              " <tf.Variable 'dense_29/bias:0' shape=(1,) dtype=float32, numpy=array([-0.8270513], dtype=float32)>]"
            ]
          },
          "metadata": {},
          "execution_count": 59
        }
      ]
    },
    {
      "cell_type": "markdown",
      "metadata": {
        "id": "LeQtdYQjLHxQ"
      },
      "source": [
        "UPDATE THE WEIGHTS HERE:"
      ]
    },
    {
      "cell_type": "code",
      "metadata": {
        "id": "m2NJ8YdL165N"
      },
      "source": [
        "a=max(0,-3)"
      ],
      "execution_count": null,
      "outputs": []
    },
    {
      "cell_type": "code",
      "metadata": {
        "colab": {
          "base_uri": "https://localhost:8080/"
        },
        "id": "PSrS8TTJ2Dsf",
        "outputId": "c953ba09-cb86-4e15-d261-af35fe5cdf00"
      },
      "source": [
        "a"
      ],
      "execution_count": null,
      "outputs": [
        {
          "output_type": "execute_result",
          "data": {
            "text/plain": [
              "0"
            ]
          },
          "metadata": {},
          "execution_count": 75
        }
      ]
    },
    {
      "cell_type": "code",
      "metadata": {
        "id": "5vqGQw7qlyv7"
      },
      "source": [
        "#h->humidity value; t->temperature value\n",
        "def ml_func(h,t):\n",
        "  a3=max(0,(((1.1563146)*h)+((-0.25177678)*t)+(-14.905402 ))) #We're doing max here bec. we use ReLu func. at each layer: o/p=max(0,x)\n",
        "  a4=max(0,(((0.26206368)*h)+((0.47050536)*t)+(-4.5643663)))\n",
        "  a5=max(0,(((1.9639573)*h)+((-0.7135683)*t)+(5.9763675)))\n",
        "\n",
        "  a6=max(0,(((3.8171318)*a3)+((0.5365088)*a4)+((-2.029649)*a5)+(-4.8820076)))\n",
        "  a7=max(0,(((-0.4962946)*a3)+((0.1100239)*a4)+((0.4271137)*a5)+(-1.640905)))\n",
        "  a8=max(0,(((-4.482957)*a3)+((0.29739815)*a4)+((-0.27374294)*a5)+(5.976514)))\n",
        "\n",
        "  a9=max(0,(((3.6645076)*a6)+((0.13679582)*a7)+((1.0162396)*a8)+(-0.8270513)))\n",
        "  r=a9\n",
        "  if r<0:\n",
        "    r=0\n",
        "  return r #Output percentage of waterflow"
      ],
      "execution_count": null,
      "outputs": []
    },
    {
      "cell_type": "code",
      "metadata": {
        "colab": {
          "base_uri": "https://localhost:8080/"
        },
        "id": "SDl4yb3deO04",
        "outputId": "a739415d-37fb-4718-e281-d8c7b891e93d"
      },
      "source": [
        "ml_func(14,50)"
      ],
      "execution_count": null,
      "outputs": [
        {
          "output_type": "execute_result",
          "data": {
            "text/plain": [
              "38.80293648244582"
            ]
          },
          "metadata": {},
          "execution_count": 79
        }
      ]
    },
    {
      "cell_type": "code",
      "metadata": {
        "id": "8pKMo7ee7Unu"
      },
      "source": [
        ""
      ],
      "execution_count": null,
      "outputs": []
    },
    {
      "cell_type": "markdown",
      "metadata": {
        "id": "M8iL01t1hPQP"
      },
      "source": [
        "**We have succesfully generated our ML model. The optimal parameters obtained are as follows:**\n",
        "\n",
        "Learning Rate=**0.01**\n",
        "\n",
        "Epochs=**5000**\n",
        "\n"
      ]
    }
  ]
}